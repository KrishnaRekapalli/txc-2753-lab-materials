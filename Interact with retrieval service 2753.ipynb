{
 "cells": [
  {
   "cell_type": "markdown",
   "metadata": {},
   "source": [
    "## Imports"
   ]
  },
  {
   "cell_type": "code",
   "execution_count": 10,
   "metadata": {
    "id": "b89eaf4e-3700-4287-85ec-b70c479ed05d"
   },
   "outputs": [],
   "source": [
    "from getpass import getpass\n",
    "import requests"
   ]
  },
  {
   "cell_type": "markdown",
   "metadata": {},
   "source": [
    "## Get IAM token"
   ]
  },
  {
   "cell_type": "markdown",
   "metadata": {},
   "source": [
    "## "
   ]
  },
  {
   "cell_type": "code",
   "execution_count": 11,
   "metadata": {
    "id": "7e72ef04-5dd5-4d4c-9aad-d61de4df8810"
   },
   "outputs": [],
   "source": [
    "\n",
    "def get_iam_token(api_key):\n",
    "    url = \"https://iam.cloud.ibm.com/identity/token\"\n",
    "    \n",
    "    payload = f\"grant_type=urn%3Aibm%3Aparams%3Aoauth%3Agrant-type%3Aapikey&apikey={api_key}\"\n",
    "    headers = {\"Content-Type\": \"application/x-www-form-urlencoded\"}\n",
    "    \n",
    "    response = requests.request(\"POST\", url, data=payload, headers=headers)\n",
    "\n",
    "    return response.json()[\"access_token\"]\n",
    "    \n",
    "\n"
   ]
  },
  {
   "cell_type": "code",
   "execution_count": 15,
   "metadata": {
    "id": "971372e9-4ebf-4eda-9d7a-2922a51433e2"
   },
   "outputs": [],
   "source": [
    "api_key = getpass(\"api_key\")"
   ]
  },
  {
   "cell_type": "markdown",
   "metadata": {},
   "source": [
    "## Enter document library id and project id"
   ]
  },
  {
   "cell_type": "code",
   "execution_count": 17,
   "metadata": {},
   "outputs": [],
   "source": [
    "\n",
    "# enter document_library_id \n",
    "document_library_id = input(\"enter document_library_id\")\n",
    "\n",
    "# enter prject id\n",
    "container_id = input(\"enter container_id\")\n"
   ]
  },
  {
   "cell_type": "code",
   "execution_count": 18,
   "metadata": {
    "id": "ec0ba3ac-9a6e-4fbf-9c67-eefe91bb336f"
   },
   "outputs": [],
   "source": [
    "token = get_iam_token(api_key)"
   ]
  },
  {
   "cell_type": "markdown",
   "metadata": {},
   "source": [
    "## Call the Retreival service"
   ]
  },
  {
   "cell_type": "code",
   "execution_count": 19,
   "metadata": {
    "id": "60762a3a-140d-419a-a2a8-11cad0f8e7db"
   },
   "outputs": [],
   "source": [
    "\n",
    "def call_retreival_service(query,document_library_id,container_id ):\n",
    "\n",
    "    url = \"https://console-ibm-cator.lakehouse.saas.ibm.com/api/v1/retrieval/search\"\n",
    "\n",
    "    payload = {\n",
    "        \"query\": query,\n",
    "        \"document_library_id\":document_library_id,\n",
    "        \"container_id\": container_id,\n",
    "        \"container_type\": \"project\",\n",
    "        \"searchConfig\": [\n",
    "            {\n",
    "                \"type\": \"vector\",\n",
    "                \"enabled\": True,\n",
    "                \"limit\": 30\n",
    "            },\n",
    "            {\n",
    "                \"type\": \"sql\",\n",
    "                \"enabled\": True\n",
    "            }\n",
    "        ],\n",
    "        \"search_inference_config\": {\n",
    "            \"enabled\": True,\n",
    "            \"inference_model_id\": \"meta-llama/llama-3-3-70b-instruct\"\n",
    "        },\n",
    "        \"provide_suggested_template\": False\n",
    "    }\n",
    "    headers = {\n",
    "        \"Content-Type\": \"application/json\",\n",
    "        \"Authorization\": f\"Bearer {token}\"\n",
    "    }\n",
    "\n",
    "    response = requests.request(\"POST\", url, json=payload, headers=headers)\n",
    "\n",
    "    return response.json() "
   ]
  },
  {
   "cell_type": "code",
   "execution_count": null,
   "metadata": {
    "id": "15f2bfdd-5066-46ad-ad4d-b78ea84e2844"
   },
   "outputs": [],
   "source": [
    "resp = call_retreival_service(query=\"revenue by division\",\n",
    "                       container_id=container_id,\n",
    "                       document_library_id=document_library_id)"
   ]
  },
  {
   "cell_type": "code",
   "execution_count": 23,
   "metadata": {},
   "outputs": [
    {
     "data": {
      "text/plain": [
       "dict_keys(['request_id', 'results', 'suggested_template', 'status', 'execution_time', 'generated_text', 'additional_info'])"
      ]
     },
     "execution_count": 23,
     "metadata": {},
     "output_type": "execute_result"
    }
   ],
   "source": [
    "resp.keys()"
   ]
  },
  {
   "cell_type": "code",
   "execution_count": 25,
   "metadata": {},
   "outputs": [
    {
     "data": {
      "text/plain": [
       "'Here is the revenue by division for IBM:\\n\\n* **Software**: $7.924 billion (up 10.4% year-over-year, up 11.5% at constant currency)\\n* **Consulting**: $5.175 billion (down 2.0% year-over-year, down 1.1% at constant currency)\\n* **Infrastructure**: $4.256 billion (down 7.6% year-over-year, down 6.0% at constant currency)\\n* **Financing**: $170 million (down 2.5% year-over-year, down 0.5% at constant currency)\\n\\nFor the full year, the revenue by division is:\\n\\n* **Software**: $27.085 billion (up 8.3% year-over-year, up 9.0% at constant currency)\\n* **Consulting**: $20.692 billion (down 0.9% year-over-year, up 0.6% at constant currency)\\n* **Infrastructure**: $14.020 billion (down 3.9% year-over-year, down 2.7% at constant currency)\\n* **Financing**: $713 million (down 3.7% year-over-year, down 2.5% at constant currency)'"
      ]
     },
     "execution_count": 25,
     "metadata": {},
     "output_type": "execute_result"
    }
   ],
   "source": [
    "resp[\"generated_text\"]"
   ]
  },
  {
   "cell_type": "code",
   "execution_count": 26,
   "metadata": {},
   "outputs": [
    {
     "data": {
      "text/plain": [
       "[{'source': 'vector',\n",
       "  'data': [{'dimension_size': '1024',\n",
       "    'distance': 0.031778056,\n",
       "    'document_id': 'e24a2a4b-4a2e-4a6f-9dd3-2d868055bc63',\n",
       "    'document_name': 'ibm-4q24-earnings-press-release.pdf',\n",
       "    'pk': '1e1e41e428df056a0770bc3aed492dc6e7bdda8aefe90eed9c99b8d97b2503b4',\n",
       "    'text': \"* Software — revenues of $7.9 billion, up 10.4 percent, up 11.5 percent at constant currency:\\n\\n* – Hybrid Platform & Solutions up 11 percent, up 12 percent at constant currency\\n\\n* Red Hat up 16 percent, up 17 percent at constant currency\\n\\n* Automation up 15 percent, up 16 percent at constant currency\\n\\n* Data & AI up 4 percent, up 5 percent at constant currency\\n\\n* Security up 4 percent, up 5 percent at constant currency\\n\\n* – Transaction Processing up 10 percent, up 11 percent at constant currency\\n\\n* Consulting — revenues of $5.2 billion, down 2.0 percent, down 1.1 percent at constant currency:\\n\\n* – Business Transformation up 1 percent, up 2 percent at constant currency\\n\\n* – Technology Consulting down 7 percent, down 6 percent at constant currency\\n\\n* – Application Operations down 4 percent, down 3 percent at constant currency\\n\\n* Infrastructure — revenues of $4.3 billion, down 7.6 percent, down 6.0 percent at constant currency:\\n\\n* – Hybrid Infrastructure down 10 percent, down 8 percent at constant currency\\n\\n* IBM Z down 21 percent, down 20 percent at constant currency\\n\\n* Distributed Infrastructure flat, up 2 percent at constant currency\\n\\n* – Infrastructure Support down 2 percent, flat at constant currency\\n\\n* Financing — revenues of $0.2 billion, down 2.5 percent, down 0.5 percent at constant currency\\n\\n## Cash Flow and Balance Sheet\\n\\nIn the fourth quarter, the company generated net cash from operating activities of $4.3 billion, down $0.1 billion year to year. IBM’s free cash flow was $6.2 billion, up $0.1 billion year to year. The company returned $1.5 billion to shareholders in dividends in the fourth quarter.\\n\\nFor the year, the company generated net cash from operating activities of $13.4 billion, down $0.5 billion year to year. Net cash from operating activities excluding IBM financing receivables was $13.9 billion, up $1.2 billion. IBM's free cash flow was $12.7 billion, up $1.5 billion year to year.\\n\\nIBM ended the fourth quarter with $14.8 billion of cash, restricted cash and marketable securities, up $1.3 billion from year-end 2023. Debt, including IBM Financing debt of $12.1 billion, totaled $55.0 billion, down $1.6 billion since year-end 2023.\\n\\n## Full-Year 2024 Results\\n\\n## FULL-YEAR 2024 INCOME STATEMENT SUMMARY\\n\\n|  |(1) GAAP results include impacts of one-time, non-cash pension settlement charges | | | | | | | | | |\\n| --- | --- | --- | --- | --- | --- | --- | --- | --- | --- | --- |\\n|  |Revenue |Gross Profit |Gross Profit Margin |Pre-tax Income |(1) |Pre-tax Income (1) Margin |Net Income |(1) |Diluted Earnings (1) Per Share | |\\n| GAAP from Continuing Operations |$ 62.8B |$ 35.6B |56.7 % |$ 5.8B | |9.2 % |$ |6.0B |$ |6.42 |\\n| Year/Year |1 %(2) |4 % |1.2 Pts |(33) % | |-4.8 Pts | |(20) % |(21) % | |\\n| Operating (Non-GAAP) | |$ 36.3B |57.8 % |$ 11.2B | |17.9 % | |$ 9.7B | |$ 10.33 |\\n| Year/Year | |4 % |1.3 Pts | |9 % |1.2 Pts | |9 % | |7 % |\\n\\n(1) 2024 GAAP results include the impacts of one-time, non-cash, U.S. and non-U.S. pension settlement charges of $3.1 billion ($2.4 billion net of tax).\\n\\n(2) 3% at constant currency\\n\\n## Full-Year 2025 Expectations\\n\\n* Revenue: The company expects full-year constant currency revenue growth of at least 5 percent. At current foreign exchange rates, currency is expected to be about a two-point headwind to growth for the year.\\n\\n* Free cash flow: The company expects about $13.5 billion in free cash flow for the full year.\\n\\n## Forward-Looking and Cautionary Statements\"},\n",
       "   {'dimension_size': '1024',\n",
       "    'distance': 0.03175403,\n",
       "    'document_id': 'e24a2a4b-4a2e-4a6f-9dd3-2d868055bc63',\n",
       "    'document_name': 'ibm-4q24-earnings-press-release.pdf',\n",
       "    'pk': 'bf46e60fb37d94c6bd21ff291a0356a2082d6ed1743fc916be622091a8fe7448',\n",
       "    'text': '* Free cash flow: The company expects about $13.5 billion in free cash flow for the full year.\\n\\n## Forward-Looking and Cautionary Statements\\n\\nExcept for the historical information and discussions contained herein, statements contained in this release may constitute forward-looking statements within the meaning of the Private Securities Litigation Reform Act of 1995. Forward-looking statements are based on the company’s current assumptions regarding future business and financial performance. These statements involve a number of risks, uncertainties and other factors that could cause actual results to differ materially, including, but not limited to, the following: a downturn in economic environment and client spending budgets; a failure of the company’s innovation initiatives; damage to the company’s reputation; risks from investing in growth opportunities; failure of the company’s intellectual property portfolio to prevent competitive offerings and the failure of the company to obtain necessary licenses; the company’s ability to successfully manage acquisitions, alliances and dispositions, including integration challenges, failure to achieve objectives, the assumption of liabilities and higher debt levels; fluctuations in financial results; impact of local legal, economic, political, health and other conditions; the company’s failure to meet growth and productivity objectives; ineffective internal controls; the company’s use of accounting estimates; impairment of the company’s goodwill or amortizable intangible assets; the company’s ability to attract and retain key employees and its reliance on critical skills; impacts of relationships with critical suppliers; product quality issues; impacts of business with government clients; reliance on third-party distribution channels and ecosystems; cybersecurity and data privacy considerations; adverse effects related to climate change and environmental matters; tax matters; legal proceedings and investigatory risks; the company’s pension plans; currency fluctuations and customer financing risks; impact of changes in market liquidity conditions and customer credit risk on receivables; risk factors related to IBM securities; and other risks, uncertainties and factors discussed in the company’s Form 10-Qs, Form 10-K and in the company’s other filings with the U.S. Securities and Exchange Commission or in materials incorporated therein by reference.\\n\\nStatements in this communication regarding the strategic acquisition that are forward-looking may include projections as to closing date for the transaction, the extent of, and the time necessary to obtain, the regulatory approvals required for the transaction, the anticipated benefits of the transaction, the impact of the transaction on IBM’s business, the synergies from the transaction, and the combined company’s future operating results.\\n\\nAny forward-looking statement in this release speaks only as of the date on which it is made. Except as required by law, the company assumes no obligation to update or revise any forward looking statements.\\n\\n## Presentation of Information in this Press Release\\n\\nFor generative AI, book of business includes Software transactional revenue, SaaS Annual Contract Value and Consulting signings. The generative AI book of business is further defined within Exhibit 99.2 in the Form 8-K that includes this press release.\\n\\nIn an effort to provide investors with additional information regarding the company’s results as determined by generally accepted accounting principles (GAAP), the company has also disclosed in this press release the following non-GAAP information, which management believes provides useful information to investors:\\n\\n## IBM results —\\n\\n* adjusting for currency (i.e., at constant currency);\\n\\n* presenting operating (non-GAAP) earnings per share amounts and related income statement items;\\n\\n* free cash flow;\\n\\n* net cash from operating activities excluding IBM Financing receivables;\\n\\n* adjusted EBITDA.'},\n",
       "   {'dimension_size': '1024',\n",
       "    'distance': 0.031513646,\n",
       "    'document_id': 'e24a2a4b-4a2e-4a6f-9dd3-2d868055bc63',\n",
       "    'document_name': 'ibm-4q24-earnings-press-release.pdf',\n",
       "    'pk': 'ce8b8dbcd29a673cc737068f49f369e342bcb69a78869107939c87eb379e881b',\n",
       "    'text': '(3) The year ended December 31, 2024 includes proceeds of $0.4 billion from the sale of certain QRadar SaaS assets in third-quarter 2024.\\n\\n## INTERNATIONAL BUSINESS MACHINES CORPORATION GAAP NET INCOME TO ADJUSTED EBITDA RECONCILIATION\\n\\n(Unaudited)\\n\\n|  |Three Months Ended December 31, ||| | |Year Ended December 31, ||| | |\\n| --- | --- | --- | --- | --- | --- | --- | --- | --- | --- | --- |\\n| (Dollars in Billions) |2024 |2023 |Yr/Yr |2024 |2023 |Yr/Yr |\\n| (1) Net Income as reported (GAAP) |$ 2.9 |$ 3.3 |$ (0.4) |$ 6.0 |$ 7.5 |$ (1.5) |\\n| Less: Income/(loss) from discontinued operations, net of tax |0.0 |0.0 |0.0 |0.0 |0.0 |0.0 |\\n| Income from continuing operations |2.9 |3.3 |(0.4) |6.0 |7.5 |(1.5) |\\n| Provision for/(Benefit from) income taxes from continuing ops. |0.4 |0.5 |(0.1) |(0.2) |1.2 |(1.4) |\\n| Pre-tax income from continuing operations (GAAP) |3.3 |3.8 |(0.5) |5.8 |8.7 |(2.9) |\\n| Non-operating adjustments (before tax) | | | | | | |\\n| (2) Acquisition-related charges |0.5 |0.4 |0.1 |2.0 |1.7 |0.3 |\\n| (1) Non-operating retirement-related costs/(income) |0.5 |0.0 |0.5 |3.5 |0.0 |3.5 |\\n| Operating (non-GAAP) pre-tax income from continuing ops. |4.3 |4.2 |0.1 |11.2 |10.3 |0.9 |\\n| Net interest expense |0.3 |0.3 |0.0 |1.0 |0.9 |0.0 |\\n| Depreciation/Amortization of non-acquired intangible assets |0.7 |0.7 |0.0 |2.8 |2.8 |0.1 |\\n| Stock-based compensation |0.3 |0.3 |0.1 |1.3 |1.1 |0.2 |\\n| Workforce rebalancing charges |0.0 |0.0 |0.0 |0.7 |0.4 |0.3 |\\n| (3) Corporate (gains) and charges |0.0 |0.0 |0.0 |(0.6) |(0.1) |(0.6) |\\n| Adjusted EBITDA |$ 5.6 |$ 5.5 |$ 0.1 |$ 16.4 |$ 15.5 |$ 0.9 |\\n\\n(1) 2024 results include the impacts of one-time, non-cash pension settlement charges in the third quarter of $2.7 billion ($2.0 billion net of tax) in the U.S. and fourth quarter of $0.4 billion in the non-U.S.\\n\\n(2) Primarily consists of amortization of acquired intangible assets.\\n\\n(3) Corporate (gains) and charges primarily consists of unique corporate actions such as gains on divestitures and asset sales (e.g., certain QRadar SaaS assets).\\n\\n## INTERNATIONAL BUSINESS MACHINES CORPORATION\\n\\n## SEGMENT DATA\\n\\n(Unaudited)\\n\\n## Three Months Ended December 31, 2024\\n\\n| (Dollars in Millions) |Software |Consulting |Infrastructure |Financing |\\n| --- | --- | --- | --- | --- |\\n| Revenue |$ 7,924 |$ 5,175 |$ 4,256 |$ 170 |\\n| Segment Profit |$ 3,102 |$ 606 |$ 1,063 |$ 94 |\\n| Segment Profit Margin |39.2 % |11.7 % |25.0 % |55.0 % |\\n| Change YTY Revenue |10.4 % |(2.0) % |(7.6) % |(2.5) % |\\n| Change YTY Revenue - Constant Currency |11.5 % |(1.1) % |(6.0) % |(0.5) % |\\n\\n## (1) Three Months Ended December 31, 2023\\n\\n| (Dollars in Millions) |Software |Consulting |Infrastructure |Financing |\\n| --- | --- | --- | --- | --- |\\n| Revenue |$ 7,179 |$ 5,283 |$ 4,604 |$ 175 |\\n| Segment Profit |$ 2,649 |$ 654 |$ 1,299 |$ 117 |\\n| Segment Profit Margin |36.9 % |12.4 % |28.2 % |67.0 % |\\n\\n(1) Recast to reflect January 2024 segment changes.\\n\\nYear Ended December 31, 2024\\n\\n| (Dollars in Millions) |Software |Consulting |Infrastructure |Financing |\\n| --- | --- | --- | --- | --- |\\n| Revenue |$ 27,085 |$ 20,692 |$ 14,020 |$ 713 |\\n| Segment Profit |$ 8,684 |$ 2,054 |$ 2,450 |$ 348 |\\n| Segment Profit Margin |32.1 % |9.9 % |17.5 % |48.8 % |\\n| Change YTY Revenue |8.3 % |(0.9) % |(3.9) % |(3.7) % |\\n| Change YTY Revenue - Constant Currency |9.0 % |0.6 % |(2.7) % |(2.5) % |\\n\\n## (1) Year Ended December 31, 2023\\n\\n| (Dollars in Millions) |Software |Consulting |Infrastructure | |Financing |\\n| --- | --- | --- | --- | --- | --- |\\n| Revenue |$ 25,011 |$ |20,884 |$ 14,593 |$ 741 |\\n| Segment Profit |$ 7,499 |$ |2,130 |$ 2,828 |$ 373 |\\n| Segment Profit Margin |30.0 % | |10.2 % |19.4 % |50.3 % |\\n\\n(1) Recast to reflect January 2024 segment changes.\\n\\n## INTERNATIONAL BUSINESS MACHINES CORPORATION\\n\\n## U.S. GAAP TO OPERATING (Non-GAAP) RESULTS RECONCILIATION\\n\\n(Unaudited; Dollars in millions except per share amounts)\\n\\n## Three Months Ended December 31, 2024'},\n",
       "   {'dimension_size': '1024',\n",
       "    'distance': 0.031099323,\n",
       "    'document_id': 'e24a2a4b-4a2e-4a6f-9dd3-2d868055bc63',\n",
       "    'document_name': 'ibm-4q24-earnings-press-release.pdf',\n",
       "    'pk': '4a60b20732703985114df3b9fc600b42f585468a1a2418115d70434dd627093e',\n",
       "    'text': '## IBM RELEASES FOURTH-QUARTER RESULTS\\n\\n## Double-digit Software revenue growth; Free cash flow well-exceeds full-year expectation\\n\\nARMONK, N.Y., January 29, 2025 . . . IBM (NYSE: IBM) today announced fourth-quarter 2024 earnings results.\\n\\n“We closed the year with double-digit revenue growth in Software for the quarter, led by further acceleration in Red Hat. Clients globally continue to turn to IBM to transform with AI. Our generative AI book of business now stands at more than $5 billion inception-to-date, up nearly $2 billion quarter over quarter,\" said Arvind Krishna, IBM chairman, president and chief executive officer. \"Three years ago, we laid out a vision for a faster-growing, more-profitable IBM. I\\'m proud of the work the IBM team has done to meet or exceed our commitments. With our focused strategy, enhanced portfolio, and culture of innovation, we\\'re well-positioned for 2025 and beyond and expect revenue growth of at least five percent and free cash flow of about $13.5 billion this year.\"\\n\\n## Fourth-Quarter Highlights\\n\\n* Revenue\\n\\n* – Revenue of $17.6 billion, up 1 percent, up 2 percent at constant currency\\n\\n* – Software revenue up 10 percent, up 11 percent at constant currency\\n\\n* – Consulting revenue down 2 percent, down 1 percent at constant currency\\n\\n* – Infrastructure revenue down 8 percent, down 6 percent at constant currency\\n\\n* Profit\\n\\n* – Gross Profit Margin: GAAP: 59.5 percent, up 40 basis points; Operating (Non-GAAP): 60.6 percent, up 50 basis points\\n\\n## Full-Year Highlights\\n\\n* Revenue\\n\\n* – Revenue of $62.8 billion, up 1 percent, up 3 percent at constant currency\\n\\n* – Software revenue up 8 percent, up 9 percent at constant currency\\n\\n* – Consulting revenue down 1 percent, up 1 percent at constant currency\\n\\n* – Infrastructure revenue down 4 percent, down 3 percent at constant currency\\n\\n* Profit\\n\\n* – Gross Profit Margin: GAAP: 56.7 percent, up 120 basis points; Operating (Non-GAAP): 57.8 percent, up 130 basis points\\n\\n* Cash Flow\\n\\n* – Net cash from operating activities of $13.4 billion; free cash flow of $12.7 billion\\n\\n## FOURTH-QUARTER 2024 INCOME STATEMENT SUMMARY\\n\\n| (1) GAAP results include impact of one-time, non-cash pension settlement charge ||||||||||||||||| | | | | | | | | | | | | | | | |\\n| --- | --- | --- | --- | --- | --- | --- | --- | --- | --- | --- | --- | --- | --- | --- | --- | --- | --- | --- | --- | --- | --- | --- | --- | --- | --- | --- | --- | --- | --- | --- | --- | --- |\\n|  |Revenue |Gross Profit |Gross Profit Margin | |Pre-tax Income | |(1) |Pre-tax Income (1) Margin |Net (1) Income |Diluted Earnings Per Share |(1) | | | | | |\\n| GAAP from Continuing Operations |$ 17.6B | |$ 10.4B |59.5 % | |$ 3.3B | |18.8 % |$ 2.9B |$ |3.11 | | | | | |\\n| Year/Year |1 %(2) | |2 % | |0.4 Pts |(12) % | |-2.8 Pts |(11) % | |(12) % | | | | | |\\n| Operating (Non-GAAP) | | |$ 10.6B |60.6 % | |$ 4.3B | |24.3 % |$ 3.7B |$ |3.92 | | | | | |\\n| Year/Year | | |2 % | |0.5 Pts |2 % | |0.4 Pts | |3 % |1 % | | | | | |\\n\\n(1) 2024 GAAP results include the impact of a one-time, non-cash pension settlement charge of $0.4 billion related to the transfer of a portion of the company\\'s Non-U.S. defined benefit pension obligations and related plan assets to third-party insurers in October 2024.\\n\\n(2) 2% at constant currency.\\n\\n“With strong performance across our Software portfolio, we continue to drive solid fundamentals within our business,\" said James Kavanaugh, IBM senior vice president and chief financial officer. \"As a result, we generated $12.7 billion in free cash flow, far-outpacing our expectation for the year. Continued strength in operating profitability and free cash flow fuels our ability to invest for the future while returning value to shareholders through dividends.”\\n\\n## Segment Results for Fourth Quarter\\n\\n* Software — revenues of $7.9 billion, up 10.4 percent, up 11.5 percent at constant currency:\\n\\n* – Hybrid Platform & Solutions up 11 percent, up 12 percent at constant currency'},\n",
       "   {'dimension_size': '1024',\n",
       "    'distance': 0.03079839,\n",
       "    'document_id': 'e24a2a4b-4a2e-4a6f-9dd3-2d868055bc63',\n",
       "    'document_name': 'ibm-4q24-earnings-press-release.pdf',\n",
       "    'pk': 'e0120779a2f21de2c6243ea0dcb999d8a7287e51af5268f36c1132fc4c0d9915',\n",
       "    'text': '* free cash flow;\\n\\n* net cash from operating activities excluding IBM Financing receivables;\\n\\n* adjusted EBITDA.\\n\\nThe rationale for management’s use of these non-GAAP measures is included in Exhibit 99.2 in the Form 8-K that includes this press release and is being submitted today to the SEC.\\n\\n## Conference Call and Webcast\\n\\nIBM’s regular quarterly earnings conference call is scheduled to begin at 5:00 p.m. ET, today. The Webcast may be accessed via a link at https://www.ibm.com/investor/events/earnings-4q24. Presentation charts will be available shortly before the Webcast.\\n\\nFinancial Results Below (certain amounts may not add due to use of rounded numbers; percentages presented are calculated from the underlying whole-dollar amounts).\\n\\nContact: IBM Sarah Meron, 347-891-1770 sarah.meron@ibm.com Tim Davidson, 914-844-7847 tfdavids@us.ibm.com\\n\\n## INTERNATIONAL BUSINESS MACHINES CORPORATION\\n\\n## COMPARATIVE FINANCIAL RESULTS\\n\\n(Unaudited; Dollars in millions except per share amounts)\\n\\n|  |Three Months Ended December 31, ||| |Year Ended December 31, ||| | |\\n| --- | --- | --- | --- | --- | --- | --- | --- | --- | --- |\\n|  |2024 |(1) 2023 |2024 | |(1) 2023 |\\n| REVENUE BY SEGMENT | | | | | |\\n| Software |$ 7,924 |7,179 | |$ 27,085 |$ 25,011 |\\n| Consulting |5,175 |5,283 |20,692 |20,884 | |\\n| Infrastructure |4,256 |4,604 |14,020 |14,593 | |\\n| Financing |170 |175 | |713 |741 |\\n| Other |29 |141 | |243 |632 |\\n| TOTAL REVENUE |17,553 |17,381 | |62,753 |61,860 |\\n| GROSS PROFIT |10,439 |10,267 | |35,551 |34,300 |\\n| GROSS PROFIT MARGIN | | | | | |\\n| Software |85.0 % |84.1 % | |83.7 % |82.9 % |\\n| Consulting |28.0 % |28.1 % |27.0 % | |26.8 % |\\n| Infrastructure |56.9 % |60.8 % |55.8 % | |56.1 % |\\n| Financing |46.9 % |50.2 % |47.9 % | |48.1 % |\\n| TOTAL GROSS PROFIT MARGIN |59.5 % |59.1 % |56.7 % | |55.4 % |\\n| EXPENSE AND OTHER INCOME | | | | | |\\n| S,G&A |4,866 |4,791 |19,688 |19,003 | |\\n| R,D&E |1,967 |1,748 |7,479 | |6,775 |\\n| Intellectual property and custom development income |(301) |(242) |(996) | |(860) |\\n| (2) Other (income) and expense |177 |(193) |1,871 | |(914) |\\n| Interest expense |424 |405 | |1,712 |1,607 |\\n| TOTAL EXPENSE AND OTHER INCOME |7,133 |6,509 |29,754 | |25,610 |\\n| INCOME FROM CONTINUING OPERATIONS | | |5,797 | | |\\n| BEFORE INCOME TAXES |3,306 |3,759 | | |8,690 |\\n| Pre-tax margin |18.8 % |21.6 % | |9.2 % 14.0 % | |\\n| (2) Provision for/(Benefit from) income taxes |379 |474 | |(218) |1,176 |\\n| Effective tax rate |11.5 % |12.6 % | |(3.8) % |13.5 % |\\n| INCOME FROM CONTINUING OPERATIONS |$ 2,927 |3,285 |$ 6,015 |$ |7,514 |\\n| DISCONTINUED OPERATIONS | | | | | |\\n| Income/ (loss) from discontinued operations, net of taxes |(12) |3 |8 | |(12) |\\n| (2) NET INCOME |$ 2,915 |3,288 |$ |6,023 $ |7,502 |\\n| (2) EARNINGS PER SHARE OF COMMON STOCK | | | | | |\\n| Assuming Dilution | | | | | |\\n| Continuing Operations |$ 3.11 |3.54 |$ |6.42 $ |8.15 |\\n| Discontinued Operations |$ (0.01) |0.00 |$ 0.01 |$ (0.01) | |\\n| TOTAL |$ 3.09 |3.55 |$ |6.43 $ |8.14 |\\n| Basic | | | | | |\\n| Continuing Operations |$ 3.16 |3.59 |$ |6.53 $ |8.25 |\\n| Discontinued Operations |$ (0.01) |0.00 |$ |0.01 $ |(0.01) |\\n| TOTAL |$ 3.15 |3.59 |$ |6.53 $ |8.23 |\\n| WEIGHTED-AVERAGE NUMBER OF COMMON SHARES OUTSTANDING (M’s) | | | | | |\\n| Assuming Dilution |942.4 |927.3 | |937.2 |922.1 |\\n| Basic |926.0 |914.7 | |921.8 |911.2 |\\n\\n(1) Recast to reflect January 2024 segment changes.\\n\\n(2) 2024 results include the impacts of one-time, non-cash pension settlement charges in the third quarter of $2.7 billion ($2.0 billion net of tax) in the U.S. and fourth quarter of $0.4 billion in the non-U.S.\\n\\n## INTERNATIONAL BUSINESS MACHINES CORPORATION\\n\\n## CONDENSED CONSOLIDATED BALANCE SHEET\\n\\n(Unaudited)'},\n",
       "   {'dimension_size': '1024',\n",
       "    'distance': 0.0305789,\n",
       "    'document_id': 'e24a2a4b-4a2e-4a6f-9dd3-2d868055bc63',\n",
       "    'document_name': 'ibm-4q24-earnings-press-release.pdf',\n",
       "    'pk': 'fd96d800294689ba6b111efa08bd68a28234098f08d1dbc8406458ad14df5173',\n",
       "    'text': '## U.S. GAAP TO OPERATING (Non-GAAP) RESULTS RECONCILIATION\\n\\n(Unaudited; Dollars in millions except per share amounts)\\n\\n## Three Months Ended December 31, 2024\\n\\n|  |Continuing Operations ||||||||||| | | | | | | | | | |\\n| --- | --- | --- | --- | --- | --- | --- | --- | --- | --- | --- | --- | --- | --- | --- | --- | --- | --- | --- | --- | --- | --- |\\n|  |GAAP |Acquisition Related Adjustments (1) || |Retirement Related Adjustments (2) ||| |Tax Reform Impacts || |Operating (Non GAAP) ||| | | |\\n| Gross Profit |$ 10,439 | |$ 191 | |$ — |$ — | |$ |10,630 | | |\\n| Gross Profit Margin |59.5 % | |1.1 pts | |— pts |— pts | | |60.6 % | | |\\n| S,G&A |$ 4,866 | |$ (305) | |$ — |$ — | |$ |4,561 | | |\\n| Other (Income) & Expense |177 | |(2) | |(467) |— | | |(291) | | |\\n| Total Expense & Other (Income) |7,133 | |(307) | |(467) |— | | |6,359 | | |\\n| Pre-tax Income from Continuing Operations |3,306 | |498 | |467 |— | | |4,271 | | |\\n| Pre-tax Income Margin from Continuing Operations | |18.8 % |2.8 pts | |2.7 pts | | |— pts |24.3 % | | |\\n| (3) Provision for/(Benefit from) Income Taxes |$ 379 |$ |123 | |$ 58 |$ 21 | | |$ 581 | | |\\n| Effective Tax Rate |11.5 % | |1.5 pts | |0.1 pts | |0.5 pts | |13.6 % | | |\\n| Income from Continuing Operations |$ 2,927 |$ |375 | |$ 408 |$ (21) | |$ |3,690 | | |\\n| Income Margin from Continuing Operations |16.7 % | |2.1 pts | |2.3 pts | |(0.1) pts | |21.0 % | | |\\n| Diluted Earnings Per Share: Continuing Operations |$ 3.11 |$ |0.40 | |$ 0.43 |$ (0.02) | | |$ 3.92 | | |\\n\\n## Three Months Ended December 31, 2023\\n\\n|  |Continuing Operations ||||||||||| | | | | | | | | | |\\n| --- | --- | --- | --- | --- | --- | --- | --- | --- | --- | --- | --- | --- | --- | --- | --- | --- | --- | --- | --- | --- | --- |\\n|  |GAAP | |Acquisition Related (1) Adjustments |Retirement Related (2) Adjustments | |Tax Reform Impacts |Operating (Non GAAP) | | | | |\\n| Gross Profit |$ 10,267 | |$ 172 |$ — |$ |— |$ 10,439 | | | | |\\n| Gross Profit Margin |59.1 |% |1.0 pts |— pts |— pts | |60.1 % | | | | |\\n| S,G&A |$ 4,791 | |$ (271) |$ — |$ |— |$ 4,520 | | | | |\\n| Other (Income) & Expense |(193) | |12 |22 | |— |(159) | | | | |\\n| Total Expense & Other (Income) |6,509 | |(259) |22 | |— |6,272 | | | | |\\n| Pre-tax Income from Continuing Operations |3,759 | |431 |(22) | |— |4,167 | | | | |\\n| Pre-tax Income Margin from Continuing Operations |21.6 |% |2.5 pts |(0.1) pts | |— pts |24.0 % | | | | |\\n| (3) Provision for/(Benefit from) Income Taxes |$ 474 | |$ 91 |$ 19 |$ |(4) |$ 580 | | | | |\\n| Effective Tax Rate |12.6 |% |0.9 pts |0.5 pts | |(0.1) pts |13.9 % | | | | |\\n| Income from Continuing Operations |$ 3,285 | |$ 339 |$ (41) |$ |4 |$ 3,587 | | | | |\\n| Income Margin from Continuing Operations |18.9 |% |2.0 pts |(0.2) pts | |— pts |20.6 % | | | | |\\n| Diluted Earnings Per Share: Continuing Operations |$ 3.54 | |$ 0.37 |$ (0.04) |$ |— |$ 3.87 | | | | |\\n\\n(1) Includes amortization of purchased intangible assets, in process R&D, transaction costs, applicable restructuring and related expenses, tax charges related to acquisition integration and pre-closing charges, such as financing costs. 2023 also includes a $12 million gain recognized on foreign exchange derivative contracts entered into by the company prior to the acquisition of StreamSets and webMethods from Software AG.\\n\\n(2) Includes amortization of prior service costs, interest cost, expected return on plan assets, amortized actuarial gains/losses, the impacts of any plan curtailments/settlements and pension insolvency costs and other costs. 2024 also includes the impact of a one-time, non-cash, non-U.S. pension settlement charge of $0.4 billion.\\n\\n(3) Tax impact on operating (non-GAAP) pre-tax income from continuing operations is calculated under the same accounting principles applied to the As Reported pre-tax income under ASC 740.\\n\\n## INTERNATIONAL BUSINESS MACHINES CORPORATION\\n\\n## U.S. GAAP TO OPERATING (Non-GAAP) RESULTS RECONCILIATION\\n\\n(Unaudited; Dollars in millions except per share amounts)'},\n",
       "   {'dimension_size': '1024',\n",
       "    'distance': 0.030117754,\n",
       "    'document_id': 'e24a2a4b-4a2e-4a6f-9dd3-2d868055bc63',\n",
       "    'document_name': 'ibm-4q24-earnings-press-release.pdf',\n",
       "    'pk': 'fedc225f342a85106837f9524a6b2ec4e5bb1e28c3343b67defa6b11340e6cae',\n",
       "    'text': '## INTERNATIONAL BUSINESS MACHINES CORPORATION\\n\\n## U.S. GAAP TO OPERATING (Non-GAAP) RESULTS RECONCILIATION\\n\\n(Unaudited; Dollars in millions except per share amounts)\\n\\n## Year Ended December 31, 2024\\n\\n|  |Continuing Operations ||||||||| | | | | | | | |\\n| --- | --- | --- | --- | --- | --- | --- | --- | --- | --- | --- | --- | --- | --- | --- | --- | --- | --- |\\n|  |GAAP | |Acquisition Related (1) Adjustments |Retirement Related Adjustments (2) | |Tax Reform Impacts (3) |Operating (Non GAAP) | | |\\n| Gross Profit |$ 35,551 | |$ 724 |$ — | |$ — |$ 36,275 | | |\\n| Gross Profit Margin |56.7 |% |1.2 pts |— |pts |— pts |57.8 % | | |\\n| S,G&A |$ 19,688 | |$ (1,159) |$ — | |$ — |$ 18,529 | | |\\n| Other (Income) & Expense |1,871 | |(70) |(3,457) | |— |(1,656) | | |\\n| Total Expense & Other (Income) |29,754 | |(1,229) |(3,457) | |— |25,068 | | |\\n| Pre-tax Income from Continuing Operations |5,797 | |1,953 |3,457 | |— |11,207 | | |\\n| Pre-tax Income Margin from Continuing Operations |9.2 |% |3.1 pts | |5.5 pts |— pts |17.9 % | | |\\n| (4) Provision for/(Benefit from) Income Taxes |$ (218) | |$ 497 |$ 790 | |$ 455 |$ 1,523 | | |\\n| Effective Tax Rate |(3.8) % | |5.1 pts | |8.2 pts |4.1 pts |13.6 % | | |\\n| Income from Continuing Operations |$ 6,015 | |$ 1,456 |$ 2,668 | |$ (455) |$ 9,684 | | |\\n| Income Margin from Continuing Operations |9.6 |% |2.3 pts | |4.3 pts |(0.7) pts |15.4 % | | |\\n| Diluted Earnings Per Share: Continuing Operations |$ 6.42 | |$ 1.55 |$ 2.85 | |$ (0.49) |$ 10.33 | | |\\n\\n|  |Year Ended December 31, 2023 Continuing Operations |||||||||| | | | | | | | | |\\n| --- | --- | --- | --- | --- | --- | --- | --- | --- | --- | --- | --- | --- | --- | --- | --- | --- | --- | --- | --- |\\n|  |GAAP | |Acquisition Related (1) Adjustments |Retirement Related Adjustments (2) |Tax Reform Impacts | |Operating (Non GAAP) | | | |\\n| Gross Profit |$ 34,300 | |$ 631 |— |$ — | |$ 34,931 | | | |\\n| Gross Profit Margin |55.4 |% |1.0 pts |— pts | |— pts |56.5 % | | | |\\n| S,G&A |$ 19,003 | |$ (1,039) |— |$ — | |$ 17,964 | | | |\\n| Other (Income) & Expense |(914) | |10 |39 |— | |(866) | | | |\\n| Total Expense & Other (Income) |25,610 | |(1,029) |39 |— | |24,620 | | | |\\n| Pre-tax Income from Continuing Operations |8,690 | |1,660 |(39) |— | |10,311 | | | |\\n| Pre-tax Income Margin from Continuing Operations |14.0 |% |2.7 pts |(0.1) pts | |— pts |16.7 % | | | |\\n| (4) Provision for/(Benefit from) Income Taxes |$ 1,176 | |$ 368 |(8) |$ (95) | |$ 1,441 | | | |\\n| Effective Tax Rate |13.5 |% |1.4 pts |— pts | |(0.9) pts |14.0 % | | | |\\n| Income from Continuing Operations |$ 7,514 | |$ 1,292 |(30) |$ 95 | |$ 8,870 | | | |\\n| Income Margin from Continuing Operations |12.1 |% |2.1 pts |0.0 pts | |0.2 pts |14.3 % | | | |\\n| Diluted Earnings Per Share: Continuing Operations |$ 8.15 | |$ 1.40 |(0.03) |$ 0.10 | |$ 9.62 | | | |\\n\\n(1) Includes amortization of purchased intangible assets, in process R&D, transaction costs, applicable restructuring and related expenses, tax charges related to acquisition integration and pre-closing charges, such as financing costs. 2024 and 2023 also include a $68 million loss and a $12 million gain, respectively, recognized on foreign exchange derivative contracts entered into by the company prior to the acquisition of StreamSets and webMethods from Software AG.\\n\\n(2) Includes amortization of prior service costs, interest cost, expected return on plan assets, amortized actuarial gains/losses, the impacts of any plan curtailments/settlements and pension insolvency costs and other costs. 2024 also includes the impacts of one-time, non-cash, U.S. and non-U.S. pension settlement charges of $3.1 billion ($2.4 billion net of tax).\\n\\n(3) 2024 includes a net benefit from income taxes due to the resolution of certain tax audit matters.\\n\\n(4) Tax impact on operating (non-GAAP) pre-tax income from continuing operations is calculated under the same accounting principles applied to the As Reported pre-tax income under ASC 740.'},\n",
       "   {'dimension_size': '1024',\n",
       "    'distance': 0.030076887,\n",
       "    'document_id': 'e24a2a4b-4a2e-4a6f-9dd3-2d868055bc63',\n",
       "    'document_name': 'ibm-4q24-earnings-press-release.pdf',\n",
       "    'pk': '91fa623bd2160cfc8fdd7cfb643978894a7bc700abd6443a2f58cfbe795e15bf',\n",
       "    'text': '(4) Tax impact on operating (non-GAAP) pre-tax income from continuing operations is calculated under the same accounting principles applied to the As Reported pre-tax income under ASC 740.\\n\\n## INTERNATIONAL BUSINESS MACHINES CORPORATION\\n\\n## GAAP OPERATING CASH FLOW TO FREE CASH FLOW RECONCILIATION\\n\\n(Unaudited)\\n\\n|  |Three Months Ended December 31, || |Year Ended December 31, || |\\n| --- | --- | --- | --- | --- | --- | --- |\\n| (Dollars in Millions) |2024 |2023 |2024 |2023 |\\n| Net Cash from Operations per GAAP |$ 4,330 |$ 4,463 |$ 13,445 |$ 13,931 |\\n| Less: change in IBM Financing receivables |(2,255) |(1,887) |(431) |1,233 |\\n| Net cash from operating activities excl. IBM Financing receivables |6,584 |6,350 |13,876 |12,699 |\\n| Capital Expenditures, net |(422) |(263) |(1,127) |(1,488) |\\n| Free Cash Flow |6,163 |6,087 |12,749 |11,210 |\\n| (Dollars in Billions) |2024 |2023 |2024 |2023 |\\n| Net Cash Provided by Operating Activities |$ 4.3 |$ 4.5 |$ 13.4 |$ 13.9 |\\n| Add: | | | | |\\n| Net interest expense |0.3 |0.3 |1.0 |0.9 |\\n| Provision for/(Benefit from) income taxes from continuing operations |0.4 |0.5 |(0.2) |1.2 |\\n| Less change in: | | | | |\\n| Financing receivables |(2.3) |(1.9) |(0.4) |1.2 |\\n| (1) Other assets and liabilities/other, net |1.7 |1.6 |(1.8) |(0.7) |\\n| Adjusted EBITDA |$ 5.6 |$ 5.5 |$ 16.4 |$ 15.5 |\\n\\n(1) Other assets and liabilities/other, net mainly consists of operating assets and liabilities/Other, net in the Cash Flow chart, workforce rebalancing charges, non-operating impacts and corporate (gains) and charges.'},\n",
       "   {'dimension_size': '1024',\n",
       "    'distance': 0.02964427,\n",
       "    'document_id': 'e24a2a4b-4a2e-4a6f-9dd3-2d868055bc63',\n",
       "    'document_name': 'ibm-4q24-earnings-press-release.pdf',\n",
       "    'pk': '42fa169455e10ca0c99f4589c3be37db09b2516f5b084990cb90cacde2377830',\n",
       "    'text': '## INTERNATIONAL BUSINESS MACHINES CORPORATION\\n\\n## CONDENSED CONSOLIDATED BALANCE SHEET\\n\\n(Unaudited)\\n\\n| (Dollars in Millions) |At December 31, 2024 |At December 31, 2023 |\\n| --- | --- | --- |\\n| ASSETS: | | |\\n| Current Assets: | | |\\n| Cash and cash equivalents |$ 13,947 |$ 13,068 |\\n| Restricted cash |214 |21 |\\n| Marketable securities |644 |373 |\\n| Notes and accounts receivable - trade, net |6,804 |7,214 |\\n| Short-term financing receivables, net |7,159 |6,793 |\\n| Other accounts receivable, net |947 |640 |\\n| Inventories |1,289 |1,161 |\\n| Deferred costs |959 |998 |\\n| Prepaid expenses and other current assets |2,520 |2,639 |\\n| Total Current Assets |34,482 |32,908 |\\n| Property, plant and equipment, net |5,731 |5,501 |\\n| Operating right-of-use assets, net |3,197 |3,220 |\\n| Long-term financing receivables, net |5,353 |5,766 |\\n| Prepaid pension assets |7,492 |7,506 |\\n| Deferred costs |788 |842 |\\n| Deferred taxes |6,978 |6,656 |\\n| Goodwill |60,706 |60,178 |\\n| Intangibles, net |10,660 |11,036 |\\n| Investments and sundry assets |1,787 |1,626 |\\n| Total Assets |$ 137,175 |$ 135,241 |\\n| LIABILITIES: | | |\\n| Current Liabilities: | | |\\n| Taxes |$ 2,033 |$ 2,270 |\\n| Short-term debt |5,089 |6,426 |\\n| Accounts payable |4,032 |4,132 |\\n| Deferred income |13,907 |13,451 |\\n| Operating lease liabilities |768 |820 |\\n| Other liabilities |7,313 |7,022 |\\n| Total Current Liabilities |33,142 |34,122 |\\n| Long-term debt |49,884 |50,121 |\\n| Retirement-related obligations |9,432 |10,808 |\\n| Deferred income |3,622 |3,533 |\\n| Operating lease liabilities |2,655 |2,568 |\\n| Other liabilities |11,048 |11,475 |\\n| Total Liabilities |109,783 |112,628 |\\n| EQUITY: | | |\\n| IBM Stockholders’ Equity: | | |\\n| Common stock |61,380 |59,643 |\\n| Retained earnings |151,163 |151,276 |\\n| Treasury stock - at cost |(169,968) |(169,624) |\\n| Accumulated other comprehensive income/(loss) |(15,269) |(18,761) |\\n| Total IBM Stockholders’ Equity |27,307 |22,533 |\\n| Noncontrolling interests |86 |80 |\\n| Total Equity |27,393 |22,613 |\\n| Total Liabilities and Equity |$ 137,175 |$ 135,241 |\\n\\n## INTERNATIONAL BUSINESS MACHINES CORPORATION\\n\\n## CASH FLOW\\n\\n(Unaudited)\\n\\n|  |Three Months Ended December 31, || |Year Ended December 31, || |\\n| --- | --- | --- | --- | --- | --- | --- |\\n| (Dollars in Millions) |2024 |2023 |2024 |2023 |\\n| Net Income from Operations |$ 2,915 |$ 3,288 |$ 6,023 |$ 7,502 |\\n| Pension Settlement Charges |388 |- |3,113 |- |\\n| (1) Depreciation/Amortization of Intangibles |1,112 |1,152 |4,667 |4,395 |\\n| Stock-based Compensation |345 |291 |1,311 |1,133 |\\n| (2) Operating assets and liabilities/Other, net |1,824 |1,619 |(1,238) |(332) |\\n| IBM Financing A/R |(2,255) |(1,887) |(431) |1,233 |\\n| Net Cash Provided by Operating Activities |$ 4,330 |$ 4,463 |$ 13,445 |$ 13,931 |\\n| (3) Capital Expenditures, net of payments & proceeds |(422) |(263) |(1,127) |(1,488) |\\n| Divestitures, net of cash transferred |(7) |- |698 |(4) |\\n| Acquisitions, net of cash acquired |(541) |(137) |(3,289) |(5,082) |\\n| Marketable Securities / Other Investments, net |(409) |3,236 |(1,218) |(496) |\\n| Net Cash Provided by/(Used in) Investing Activities |$ (1,379) |$ 2,837 |$ (4,937) |$ (7,070) |\\n| Debt, net of payments & proceeds |(103) |(122) |(880) |4,497 |\\n| Dividends |(1,546) |(1,518) |(6,147) |(6,040) |\\n| Financing - Other |(26) |26 |(52) |(226) |\\n| Net Cash Provided by/(Used in) Financing Activities |$ (1,675) |$ (1,615) |$ (7,079) |$ (1,769) |\\n| Effect of Exchange Rate changes on Cash |(330) |128 |(359) |9 |\\n| Net Change in Cash, Cash Equivalents and Restricted Cash |$ 946 |$ 5,814 |$ 1,071 |$ 5,101 |\\n\\n(1) Includes operating lease right-of-use assets amortization.\\n\\n(2) The year ended December 31, 2024 includes a $0.7 billion tax effect associated with a one-time, non-cash, U.S. pension settlement charge in the third-quarter 2024.\\n\\n(3) The year ended December 31, 2024 includes proceeds of $0.4 billion from the sale of certain QRadar SaaS assets in third-quarter 2024.'}],\n",
       "  'metadata': {'execution_time': 387},\n",
       "  'summary': ''}]"
      ]
     },
     "execution_count": 26,
     "metadata": {},
     "output_type": "execute_result"
    }
   ],
   "source": [
    "resp[\"results\"]"
   ]
  },
  {
   "cell_type": "code",
   "execution_count": null,
   "metadata": {},
   "outputs": [],
   "source": []
  }
 ],
 "metadata": {
  "kernelspec": {
   "display_name": "docling-wshp",
   "language": "python",
   "name": "python3"
  },
  "language_info": {
   "codemirror_mode": {
    "name": "ipython",
    "version": 3
   },
   "file_extension": ".py",
   "mimetype": "text/x-python",
   "name": "python",
   "nbconvert_exporter": "python",
   "pygments_lexer": "ipython3",
   "version": "3.12.10"
  }
 },
 "nbformat": 4,
 "nbformat_minor": 4
}
